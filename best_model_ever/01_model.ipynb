{
 "cells": [
  {
   "cell_type": "code",
   "execution_count": 1,
   "id": "8459945f",
   "metadata": {},
   "outputs": [],
   "source": [
    "import tensorflow as tf\n",
    "import numpy as np, random, os"
   ]
  },
  {
   "cell_type": "code",
   "execution_count": 2,
   "id": "b9ac9cb8",
   "metadata": {},
   "outputs": [],
   "source": [
    "# fix le seed pour reproduire les resultats\n",
    "\n",
    "tf.keras.utils.set_random_seed(42)"
   ]
  },
  {
   "cell_type": "code",
   "execution_count": null,
   "id": "372415f9",
   "metadata": {},
   "outputs": [],
   "source": [
    "# hyper parameters\n",
    "\n",
    "batch_size = 32\n",
    "img_size = (128, 128)\n",
    "epochs = 100\n",
    "num_classes = 1\n",
    "learning_rate = 0.001\n",
    "kernel_size = (3, 3)\n",
    "input_shape = img_size + (3,)"
   ]
  }
 ],
 "metadata": {
  "kernelspec": {
   "display_name": "base",
   "language": "python",
   "name": "python3"
  },
  "language_info": {
   "codemirror_mode": {
    "name": "ipython",
    "version": 3
   },
   "file_extension": ".py",
   "mimetype": "text/x-python",
   "name": "python",
   "nbconvert_exporter": "python",
   "pygments_lexer": "ipython3",
   "version": "3.12.4"
  }
 },
 "nbformat": 4,
 "nbformat_minor": 5
}
